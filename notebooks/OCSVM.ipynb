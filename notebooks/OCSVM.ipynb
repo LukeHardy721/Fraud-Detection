{
 "cells": [
  {
   "cell_type": "markdown",
   "id": "e145c588",
   "metadata": {},
   "source": [
    "# One-Class SVM"
   ]
  },
  {
   "cell_type": "markdown",
   "id": "27a45de0",
   "metadata": {},
   "source": [
    "## Import Data"
   ]
  },
  {
   "cell_type": "code",
   "execution_count": 1,
   "id": "fb0ba141",
   "metadata": {},
   "outputs": [
    {
     "name": "stdout",
     "output_type": "stream",
     "text": [
      "(227845, 31)\n",
      "(56962, 31)\n",
      "(284807, 31)\n"
     ]
    }
   ],
   "source": [
    "import pandas as pd\n",
    "\n",
    "train_df = pd.read_csv(\"../data/processed_train_df.csv\")\n",
    "print(train_df.shape)\n",
    "\n",
    "test_df = pd.read_csv(\"../data/processed_test_df.csv\")\n",
    "print(test_df.shape)\n",
    "\n",
    "df = pd.concat([train_df, test_df])\n",
    "print(df.shape)"
   ]
  },
  {
   "cell_type": "code",
   "execution_count": 2,
   "id": "2e55c09b",
   "metadata": {},
   "outputs": [],
   "source": [
    "# Exclude labels\n",
    "\n",
    "y_train = train_df['Class']\n",
    "X_train = train_df.drop(columns=['Class'])\n",
    "\n",
    "X_train.columns\n",
    "\n",
    "y_test = test_df['Class']\n",
    "X_test = test_df.drop(columns=['Class'])\n",
    "\n",
    "labels = df['Class']\n",
    "df_unlabelled = df.drop(columns=['Class'])"
   ]
  },
  {
   "cell_type": "markdown",
   "id": "d9d4bf8c",
   "metadata": {},
   "source": [
    "## Model Building"
   ]
  },
  {
   "cell_type": "code",
   "execution_count": null,
   "id": "047f0da0",
   "metadata": {},
   "outputs": [
    {
     "ename": "TypeError",
     "evalue": "OneClassSVM.__init__() got an unexpected keyword argument 'n_jobs'",
     "output_type": "error",
     "traceback": [
      "\u001b[1;31m---------------------------------------------------------------------------\u001b[0m",
      "\u001b[1;31mTypeError\u001b[0m                                 Traceback (most recent call last)",
      "Cell \u001b[1;32mIn[7], line 3\u001b[0m\n\u001b[0;32m      1\u001b[0m \u001b[38;5;28;01mfrom\u001b[39;00m \u001b[38;5;21;01msklearn\u001b[39;00m\u001b[38;5;21;01m.\u001b[39;00m\u001b[38;5;21;01msvm\u001b[39;00m \u001b[38;5;28;01mimport\u001b[39;00m OneClassSVM\n\u001b[1;32m----> 3\u001b[0m ocsvm \u001b[38;5;241m=\u001b[39m \u001b[43mOneClassSVM\u001b[49m\u001b[43m(\u001b[49m\n\u001b[0;32m      4\u001b[0m \u001b[43m    \u001b[49m\u001b[43mkernel\u001b[49m\u001b[38;5;241;43m=\u001b[39;49m\u001b[38;5;124;43m\"\u001b[39;49m\u001b[38;5;124;43mrbf\u001b[39;49m\u001b[38;5;124;43m\"\u001b[39;49m\u001b[43m,\u001b[49m\n\u001b[0;32m      5\u001b[0m \u001b[43m    \u001b[49m\u001b[43mgamma\u001b[49m\u001b[38;5;241;43m=\u001b[39;49m\u001b[38;5;124;43m\"\u001b[39;49m\u001b[38;5;124;43mscale\u001b[39;49m\u001b[38;5;124;43m\"\u001b[39;49m\u001b[43m,\u001b[49m\u001b[43m  \u001b[49m\u001b[38;5;66;43;03m# or tune numeric values\u001b[39;49;00m\n\u001b[0;32m      6\u001b[0m \u001b[43m    \u001b[49m\u001b[43mnu\u001b[49m\u001b[38;5;241;43m=\u001b[39;49m\u001b[38;5;241;43m0.01\u001b[39;49m\u001b[43m,\u001b[49m\u001b[43m         \u001b[49m\u001b[38;5;66;43;03m# expected outlier fraction\u001b[39;49;00m\n\u001b[0;32m      7\u001b[0m \u001b[43m    \u001b[49m\u001b[43mn_jobs\u001b[49m\u001b[38;5;241;43m=\u001b[39;49m\u001b[38;5;241;43m-\u001b[39;49m\u001b[38;5;241;43m1\u001b[39;49m\n\u001b[0;32m      8\u001b[0m \u001b[43m)\u001b[49m\n\u001b[0;32m      9\u001b[0m ocsvm\u001b[38;5;241m.\u001b[39mfit(X_train)\n",
      "\u001b[1;31mTypeError\u001b[0m: OneClassSVM.__init__() got an unexpected keyword argument 'n_jobs'"
     ]
    }
   ],
   "source": [
    "from sklearn.svm import OneClassSVM\n",
    "\n",
    "ocsvm = OneClassSVM(\n",
    "    kernel=\"rbf\",\n",
    "    gamma=\"scale\",  # or tune numeric values\n",
    "    nu=0.01,         # expected outlier fraction\n",
    ")\n",
    "ocsvm.fit(X_train)"
   ]
  },
  {
   "cell_type": "code",
   "execution_count": 5,
   "id": "480f0785",
   "metadata": {},
   "outputs": [],
   "source": [
    "scores = -ocsvm.decision_function(X_test).ravel()\n",
    "pred_labels = (ocsvm.predict(X_test) == -1).astype(int)"
   ]
  },
  {
   "cell_type": "code",
   "execution_count": 6,
   "id": "5e16b4cb",
   "metadata": {},
   "outputs": [
    {
     "name": "stdout",
     "output_type": "stream",
     "text": [
      "ROC: 0.9305\n",
      "PR AUC: 0.0896\n"
     ]
    },
    {
     "data": {
      "image/png": "[encoded data removed]",
      "text/plain": [
       "<Figure size 640x480 with 2 Axes>"
      ]
     },
     "metadata": {},
     "output_type": "display_data"
    }
   ],
   "source": [
    "from sklearn.metrics import roc_auc_score, average_precision_score, confusion_matrix\n",
    "import seaborn as sns\n",
    "import matplotlib.pyplot as plt\n",
    "\n",
    "roc = roc_auc_score(y_test, scores)\n",
    "pr_auc = average_precision_score(y_test, scores)\n",
    "\n",
    "print(f\"ROC: {roc.round(4)}\")\n",
    "print(f\"PR AUC: {pr_auc.round(4)}\")\n",
    "\n",
    "# Confusion Matrix\n",
    "sns.heatmap(confusion_matrix(y_test, pred_labels), annot=True, fmt='d', cmap='Blues')\n",
    "plt.title(\"Confusion Matrix\")\n",
    "plt.xlabel(\"Predicted\")\n",
    "plt.ylabel(\"Actual\")\n",
    "plt.show()"
   ]
  },
  {
   "cell_type": "markdown",
   "id": "a4c78337",
   "metadata": {},
   "source": [
    "This model is ok, but let's see if we can improve it with some tuning."
   ]
  },
  {
   "cell_type": "markdown",
   "id": "951677db",
   "metadata": {},
   "source": [
    "## Hyperparamater Tuning"
   ]
  },
  {
   "cell_type": "code",
   "execution_count": null,
   "id": "726d7d0a",
   "metadata": {},
   "outputs": [
    {
     "name": "stdout",
     "output_type": "stream",
     "text": [
      "2\n",
      "0.0017336347078057452\n"
     ]
    }
   ],
   "source": [
    "# Find a good random_state so that the sample mean is close to the actual mean\n",
    "\n",
    "mean = 0\n",
    "i = 0\n",
    "\n",
    "while abs(mean-0.00172) > 0.00005:\n",
    "    i+=1\n",
    "    train_sample = train_df.sample(frac=0.2, random_state=i)\n",
    "    X_sample = train_sample.drop(columns=['Class'])\n",
    "    y_sample = train_sample['Class']\n",
    "    mean = y_sample.mean()\n",
    "\n",
    "print(i)\n",
    "print(mean)"
   ]
  },
  {
   "cell_type": "code",
   "execution_count": 16,
   "id": "cae79701",
   "metadata": {},
   "outputs": [],
   "source": [
    "import numpy as np\n",
    "\n",
    "def precision_recall_at_k(y_true, scores, k=0.01):\n",
    "    \"\"\"\n",
    "    Compute Precision@k and Recall@k for anomaly scores.\n",
    "    y_true: array-like of shape (n,) with 0/1 labels\n",
    "    scores: array-like of shape (n,) with higher = more anomalous\n",
    "    k: fraction of samples to flag (e.g. 0.01 = top 1%)\n",
    "    \"\"\"\n",
    "    n = len(scores)\n",
    "    top_n = max(1, int(np.ceil(k * n)))  # at least one sample\n",
    "\n",
    "    # Get indices of top-k scores\n",
    "    idx = np.argsort(-scores)[:top_n]\n",
    "\n",
    "    # Precision = frauds / flagged\n",
    "    precision = y_true.iloc[idx].mean()\n",
    "\n",
    "    # Recall = frauds caught / total frauds\n",
    "    recall = y_true.iloc[idx].sum() / y_true.sum()\n",
    "\n",
    "    return precision, recall"
   ]
  },
  {
   "cell_type": "code",
   "execution_count": null,
   "id": "3fb89e74",
   "metadata": {},
   "outputs": [
    {
     "name": "stdout",
     "output_type": "stream",
     "text": [
      "Top configs:\n"
     ]
    },
    {
     "data": {
      "text/html": [
       "<div>\n",
       "<style scoped>\n",
       "    .dataframe tbody tr th:only-of-type {\n",
       "        vertical-align: middle;\n",
       "    }\n",
       "\n",
       "    .dataframe tbody tr th {\n",
       "        vertical-align: top;\n",
       "    }\n",
       "\n",
       "    .dataframe thead th {\n",
       "        text-align: right;\n",
       "    }\n",
       "</style>\n",
       "<table border=\"1\" class=\"dataframe\">\n",
       "  <thead>\n",
       "    <tr style=\"text-align: right;\">\n",
       "      <th></th>\n",
       "      <th>gamma</th>\n",
       "      <th>nu</th>\n",
       "      <th>ROC</th>\n",
       "      <th>pr_auc</th>\n",
       "      <th>p_at_1</th>\n",
       "      <th>r_at_1</th>\n",
       "      <th>p_at_05</th>\n",
       "      <th>r_at_05</th>\n",
       "    </tr>\n",
       "  </thead>\n",
       "  <tbody>\n",
       "    <tr>\n",
       "      <th>0</th>\n",
       "      <td>scale</td>\n",
       "      <td>0.04</td>\n",
       "      <td>0.944614</td>\n",
       "      <td>0.147520</td>\n",
       "      <td>0.138596</td>\n",
       "      <td>0.806122</td>\n",
       "      <td>0.196491</td>\n",
       "      <td>0.571429</td>\n",
       "    </tr>\n",
       "    <tr>\n",
       "      <th>1</th>\n",
       "      <td>scale</td>\n",
       "      <td>0.03</td>\n",
       "      <td>0.943419</td>\n",
       "      <td>0.144018</td>\n",
       "      <td>0.138596</td>\n",
       "      <td>0.806122</td>\n",
       "      <td>0.185965</td>\n",
       "      <td>0.540816</td>\n",
       "    </tr>\n",
       "    <tr>\n",
       "      <th>2</th>\n",
       "      <td>0.04</td>\n",
       "      <td>0.04</td>\n",
       "      <td>0.945176</td>\n",
       "      <td>0.138697</td>\n",
       "      <td>0.138596</td>\n",
       "      <td>0.806122</td>\n",
       "      <td>0.175439</td>\n",
       "      <td>0.510204</td>\n",
       "    </tr>\n",
       "    <tr>\n",
       "      <th>3</th>\n",
       "      <td>0.02</td>\n",
       "      <td>0.03</td>\n",
       "      <td>0.942012</td>\n",
       "      <td>0.156550</td>\n",
       "      <td>0.136842</td>\n",
       "      <td>0.795918</td>\n",
       "      <td>0.207018</td>\n",
       "      <td>0.602041</td>\n",
       "    </tr>\n",
       "    <tr>\n",
       "      <th>4</th>\n",
       "      <td>0.04</td>\n",
       "      <td>0.05</td>\n",
       "      <td>0.946632</td>\n",
       "      <td>0.140796</td>\n",
       "      <td>0.136842</td>\n",
       "      <td>0.795918</td>\n",
       "      <td>0.171930</td>\n",
       "      <td>0.500000</td>\n",
       "    </tr>\n",
       "    <tr>\n",
       "      <th>5</th>\n",
       "      <td>scale</td>\n",
       "      <td>0.05</td>\n",
       "      <td>0.945897</td>\n",
       "      <td>0.147445</td>\n",
       "      <td>0.135088</td>\n",
       "      <td>0.785714</td>\n",
       "      <td>0.203509</td>\n",
       "      <td>0.591837</td>\n",
       "    </tr>\n",
       "    <tr>\n",
       "      <th>6</th>\n",
       "      <td>0.02</td>\n",
       "      <td>0.04</td>\n",
       "      <td>0.942956</td>\n",
       "      <td>0.154425</td>\n",
       "      <td>0.133333</td>\n",
       "      <td>0.775510</td>\n",
       "      <td>0.210526</td>\n",
       "      <td>0.612245</td>\n",
       "    </tr>\n",
       "    <tr>\n",
       "      <th>7</th>\n",
       "      <td>0.04</td>\n",
       "      <td>0.03</td>\n",
       "      <td>0.943621</td>\n",
       "      <td>0.131112</td>\n",
       "      <td>0.128070</td>\n",
       "      <td>0.744898</td>\n",
       "      <td>0.171930</td>\n",
       "      <td>0.500000</td>\n",
       "    </tr>\n",
       "    <tr>\n",
       "      <th>8</th>\n",
       "      <td>0.02</td>\n",
       "      <td>0.05</td>\n",
       "      <td>0.944399</td>\n",
       "      <td>0.150595</td>\n",
       "      <td>0.124561</td>\n",
       "      <td>0.724490</td>\n",
       "      <td>0.203509</td>\n",
       "      <td>0.591837</td>\n",
       "    </tr>\n",
       "  </tbody>\n",
       "</table>\n",
       "</div>"
      ],
      "text/plain": [
       "   gamma    nu       ROC    pr_auc    p_at_1    r_at_1   p_at_05   r_at_05\n",
       "0  scale  0.04  0.944614  0.147520  0.138596  0.806122  0.196491  0.571429\n",
       "1  scale  0.03  0.943419  0.144018  0.138596  0.806122  0.185965  0.540816\n",
       "2   0.04  0.04  0.945176  0.138697  0.138596  0.806122  0.175439  0.510204\n",
       "3   0.02  0.03  0.942012  0.156550  0.136842  0.795918  0.207018  0.602041\n",
       "4   0.04  0.05  0.946632  0.140796  0.136842  0.795918  0.171930  0.500000\n",
       "5  scale  0.05  0.945897  0.147445  0.135088  0.785714  0.203509  0.591837\n",
       "6   0.02  0.04  0.942956  0.154425  0.133333  0.775510  0.210526  0.612245\n",
       "7   0.04  0.03  0.943621  0.131112  0.128070  0.744898  0.171930  0.500000\n",
       "8   0.02  0.05  0.944399  0.150595  0.124561  0.724490  0.203509  0.591837"
      ]
     },
     "metadata": {},
     "output_type": "display_data"
    },
    {
     "name": "stdout",
     "output_type": "stream",
     "text": [
      "\n",
      "Selected params: {'gamma': 'scale', 'nu': 0.04}\n",
      "Selected r_at_1=0.8061, pr_auc=0.1475\n"
     ]
    }
   ],
   "source": [
    "# First tune on a sample of the train dataset\n",
    "\n",
    "from sklearn.model_selection import ParameterGrid\n",
    "\n",
    "PRIMARY   = \"r_at_1\"\n",
    "SECONDARY = \"pr_auc\"\n",
    "\n",
    "# Note that I have already narrowed down the param_grid through multiple iterations\n",
    "\n",
    "param_grid = {\n",
    "    \"nu\": [0.03, 0.04, 0.05],\n",
    "    \"gamma\": [\"scale\", 0.02, 0.04] # Note that 'scale' and 'auto' are roughly equivalent since the features are scaled --> they have variance 1. Both are ~= 0.03.\n",
    "}\n",
    "\n",
    "runs = []\n",
    "best_tuple = (-np.inf, -np.inf)\n",
    "best_params, best_model, best_scores = None, None, None\n",
    "\n",
    "for params in ParameterGrid(param_grid):\n",
    "    ocsvm = OneClassSVM(\n",
    "        kernel=\"rbf\",\n",
    "        **params\n",
    "    )\n",
    "    ocsvm.fit(X_sample)\n",
    "    scores = -ocsvm.decision_function(X_test)\n",
    "\n",
    "    roc = roc_auc_score(y_test, scores)\n",
    "    pr_auc = average_precision_score(y_test, scores)\n",
    "    p_at_1,  r_at_1  = precision_recall_at_k(y_test, scores, k=0.01)\n",
    "    p_at_05, r_at_05 = precision_recall_at_k(y_test, scores, k=0.005)\n",
    "\n",
    "    runs.append({\n",
    "        **params,\n",
    "        \"ROC\": roc,\n",
    "        \"pr_auc\": pr_auc,\n",
    "        \"p_at_1\": p_at_1, \"r_at_1\": r_at_1,\n",
    "        \"p_at_05\": p_at_05, \"r_at_05\": r_at_05\n",
    "    })\n",
    "\n",
    "    primary_val   = r_at_1 if PRIMARY == \"r_at_1\" else pr_auc\n",
    "    secondary_val = pr_auc if SECONDARY == \"pr_auc\" else r_at_1\n",
    "\n",
    "    if (primary_val, secondary_val) > best_tuple:\n",
    "        best_tuple  = (primary_val, secondary_val)\n",
    "        best_params = params\n",
    "        best_model  = ocsvm\n",
    "        best_scores = scores\n",
    "\n",
    "results_df = pd.DataFrame(runs).sort_values(\n",
    "    by=[PRIMARY, SECONDARY], ascending=[False, False]\n",
    ").reset_index(drop=True)\n",
    "\n",
    "print(\"Top configs:\")\n",
    "display(results_df.head(10))\n",
    "print(\"\\nSelected params:\", best_params)\n",
    "print(f\"Selected {PRIMARY}={best_tuple[0]:.4f}, {SECONDARY}={best_tuple[1]:.4f}\")"
   ]
  },
  {
   "cell_type": "code",
   "execution_count": null,
   "id": "d3186594",
   "metadata": {},
   "outputs": [
    {
     "name": "stdout",
     "output_type": "stream",
     "text": [
      "{'ROC': 0.9444377849620433, 'pr_auc': 0.13980928932119432, 'p_at_1': 0.13508771929824562, 'r_at_1': 0.7857142857142857, 'p_at_05': 0.19298245614035087, 'r_at_05': 0.5612244897959183}\n"
     ]
    }
   ],
   "source": [
    "# Try tuning on the whole train dataset\n",
    "\n",
    "ocsvm = OneClassSVM(\n",
    "    kernel=\"rbf\",\n",
    "    gamma=\"scale\",  # or tune numeric values\n",
    "    nu=0.04,         # expected outlier fraction\n",
    ")\n",
    "\n",
    "ocsvm.fit(X_train)\n",
    "scores = -ocsvm.decision_function(X_test)\n",
    "\n",
    "roc = roc_auc_score(y_test, scores)\n",
    "pr_auc = average_precision_score(y_test, scores)\n",
    "p_at_1,  r_at_1  = precision_recall_at_k(y_test, scores, k=0.01)\n",
    "p_at_05, r_at_05 = precision_recall_at_k(y_test, scores, k=0.005)\n",
    "\n",
    "print({\n",
    "    \"ROC\": roc,\n",
    "    \"pr_auc\": pr_auc,\n",
    "    \"p_at_1\": p_at_1, \"r_at_1\": r_at_1,\n",
    "    \"p_at_05\": p_at_05, \"r_at_05\": r_at_05\n",
    "})"
   ]
  },
  {
   "cell_type": "markdown",
   "id": "e7755e34",
   "metadata": {},
   "source": [
    "## Validation"
   ]
  },
  {
   "cell_type": "code",
   "execution_count": 25,
   "id": "056acc4f",
   "metadata": {},
   "outputs": [
    {
     "name": "stdout",
     "output_type": "stream",
     "text": [
      "{'ROC': 0.9416472540118892, 'pr_auc': 0.12872630395766602, 'p_at_1': 0.13478413478413478, 'r_at_1': 0.7804878048780488, 'p_at_05': 0.18385964912280703, 'r_at_05': 0.532520325203252}\n"
     ]
    }
   ],
   "source": [
    "scores = -ocsvm.decision_function(df_unlabelled)\n",
    "\n",
    "roc = roc_auc_score(labels, scores)\n",
    "pr_auc = average_precision_score(labels, scores)\n",
    "p_at_1,  r_at_1  = precision_recall_at_k(labels, scores, k=0.01)\n",
    "p_at_05, r_at_05 = precision_recall_at_k(labels, scores, k=0.005)\n",
    "\n",
    "print({\n",
    "    \"ROC\": roc,\n",
    "    \"pr_auc\": pr_auc,\n",
    "    \"p_at_1\": p_at_1, \"r_at_1\": r_at_1,\n",
    "    \"p_at_05\": p_at_05, \"r_at_05\": r_at_05\n",
    "})"
   ]
  },
  {
   "cell_type": "markdown",
   "id": "2faea2e8",
   "metadata": {},
   "source": [
    "Our tuned One-Class SVM achieved ROC AUC = 0.94 and PR AUC = 0.13.\n",
    "\n",
    "At a 1% review budget, this corresponds to 13% precision and 78% recall, a 78× improvement over random guessing.\n",
    "In practice, this means fraud investigators could catch ~384 frauds (78% of all fraud cases) while only reviewing 1% of total transactions.\n",
    "\n",
    "At a 0.5% review budget, this corresponds to 18% precision and 53% recall, a 106× improvement over random guessing.\n",
    "In practice, this means fraud investigators could catch ~261 frauds (just over half of all fraud cases) while only reviewing 0.5% of total transactions."
   ]
  },
  {
   "cell_type": "markdown",
   "id": "3de66775",
   "metadata": {},
   "source": [
    "We could attempt to retain performance while reducing model complexity, however it is clear that Local Outlier Factor (LOF) is able to achieve better results whilst being less computationally expensive."
   ]
  }
 ],
 "metadata": {
  "kernelspec": {
   "display_name": "Python 3",
   "language": "python",
   "name": "python3"
  },
  "language_info": {
   "codemirror_mode": {
    "name": "ipython",
    "version": 3
   },
   "file_extension": ".py",
   "mimetype": "text/x-python",
   "name": "python",
   "nbconvert_exporter": "python",
   "pygments_lexer": "ipython3",
   "version": "3.12.1"
  }
 },
 "nbformat": 4,
 "nbformat_minor": 5
}
