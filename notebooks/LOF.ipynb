{
 "cells": [
  {
   "cell_type": "markdown",
   "id": "828a2b0a",
   "metadata": {},
   "source": [
    "# Local Outlier Factor"
   ]
  },
  {
   "cell_type": "markdown",
   "id": "43f024c5",
   "metadata": {},
   "source": [
    "## Import Data"
   ]
  },
  {
   "cell_type": "code",
   "execution_count": 14,
   "id": "0fc89551",
   "metadata": {},
   "outputs": [
    {
     "name": "stdout",
     "output_type": "stream",
     "text": [
      "(227845, 31)\n",
      "(56962, 31)\n",
      "(284807, 31)\n"
     ]
    }
   ],
   "source": [
    "import pandas as pd\n",
    "\n",
    "train_df = pd.read_csv(\"../data/processed_train_df.csv\")\n",
    "print(train_df.shape)\n",
    "\n",
    "test_df = pd.read_csv(\"../data/processed_test_df.csv\")\n",
    "print(test_df.shape)\n",
    "\n",
    "df = pd.concat([train_df, test_df])\n",
    "print(df.shape)"
   ]
  },
  {
   "cell_type": "code",
   "execution_count": 15,
   "id": "f948faf1",
   "metadata": {},
   "outputs": [],
   "source": [
    "# Exclude labels\n",
    "\n",
    "y_train = train_df['Class']\n",
    "X_train = train_df.drop(columns=['Class'])\n",
    "\n",
    "y_test = test_df['Class']\n",
    "X_test = test_df.drop(columns=['Class'])\n",
    "\n",
    "labels = df['Class']\n",
    "df_unlabelled = df.drop(columns=['Class'])"
   ]
  },
  {
   "cell_type": "code",
   "execution_count": 16,
   "id": "e466f8d1",
   "metadata": {},
   "outputs": [],
   "source": [
    "from sklearn.model_selection import train_test_split\n",
    "\n",
    "# Build a validation with 20% of the data (25% of the train dataset)\n",
    "X_train, X_val, y_train, y_val = train_test_split(X_train, y_train, test_size=0.25, random_state=42, stratify=y_train)"
   ]
  },
  {
   "cell_type": "markdown",
   "id": "3d04ca86",
   "metadata": {},
   "source": [
    "## Model Building"
   ]
  },
  {
   "cell_type": "code",
   "execution_count": 17,
   "id": "e076fdd9",
   "metadata": {},
   "outputs": [
    {
     "data": {
      "text/html": [
       "<style>#sk-container-id-3 {\n",
       "  /* Definition of color scheme common for light and dark mode */\n",
       "  --sklearn-color-text: #000;\n",
       "  --sklearn-color-text-muted: #666;\n",
       "  --sklearn-color-line: gray;\n",
       "  /* Definition of color scheme for unfitted estimators */\n",
       "  --sklearn-color-unfitted-level-0: #fff5e6;\n",
       "  --sklearn-color-unfitted-level-1: #f6e4d2;\n",
       "  --sklearn-color-unfitted-level-2: #ffe0b3;\n",
       "  --sklearn-color-unfitted-level-3: chocolate;\n",
       "  /* Definition of color scheme for fitted estimators */\n",
       "  --sklearn-color-fitted-level-0: #f0f8ff;\n",
       "  --sklearn-color-fitted-level-1: #d4ebff;\n",
       "  --sklearn-color-fitted-level-2: #b3dbfd;\n",
       "  --sklearn-color-fitted-level-3: cornflowerblue;\n",
       "\n",
       "  /* Specific color for light theme */\n",
       "  --sklearn-color-text-on-default-background: var(--sg-text-color, var(--theme-code-foreground, var(--jp-content-font-color1, black)));\n",
       "  --sklearn-color-background: var(--sg-background-color, var(--theme-background, var(--jp-layout-color0, white)));\n",
       "  --sklearn-color-border-box: var(--sg-text-color, var(--theme-code-foreground, var(--jp-content-font-color1, black)));\n",
       "  --sklearn-color-icon: #696969;\n",
       "\n",
       "  @media (prefers-color-scheme: dark) {\n",
       "    /* Redefinition of color scheme for dark theme */\n",
       "    --sklearn-color-text-on-default-background: var(--sg-text-color, var(--theme-code-foreground, var(--jp-content-font-color1, white)));\n",
       "    --sklearn-color-background: var(--sg-background-color, var(--theme-background, var(--jp-layout-color0, #111)));\n",
       "    --sklearn-color-border-box: var(--sg-text-color, var(--theme-code-foreground, var(--jp-content-font-color1, white)));\n",
       "    --sklearn-color-icon: #878787;\n",
       "  }\n",
       "}\n",
       "\n",
       "#sk-container-id-3 {\n",
       "  color: var(--sklearn-color-text);\n",
       "}\n",
       "\n",
       "#sk-container-id-3 pre {\n",
       "  padding: 0;\n",
       "}\n",
       "\n",
       "#sk-container-id-3 input.sk-hidden--visually {\n",
       "  border: 0;\n",
       "  clip: rect(1px 1px 1px 1px);\n",
       "  clip: rect(1px, 1px, 1px, 1px);\n",
       "  height: 1px;\n",
       "  margin: -1px;\n",
       "  overflow: hidden;\n",
       "  padding: 0;\n",
       "  position: absolute;\n",
       "  width: 1px;\n",
       "}\n",
       "\n",
       "#sk-container-id-3 div.sk-dashed-wrapped {\n",
       "  border: 1px dashed var(--sklearn-color-line);\n",
       "  margin: 0 0.4em 0.5em 0.4em;\n",
       "  box-sizing: border-box;\n",
       "  padding-bottom: 0.4em;\n",
       "  background-color: var(--sklearn-color-background);\n",
       "}\n",
       "\n",
       "#sk-container-id-3 div.sk-container {\n",
       "  /* jupyter's `normalize.less` sets `[hidden] { display: none; }`\n",
       "     but bootstrap.min.css set `[hidden] { display: none !important; }`\n",
       "     so we also need the `!important` here to be able to override the\n",
       "     default hidden behavior on the sphinx rendered scikit-learn.org.\n",
       "     See: https://github.com/scikit-learn/scikit-learn/issues/21755 */\n",
       "  display: inline-block !important;\n",
       "  position: relative;\n",
       "}\n",
       "\n",
       "#sk-container-id-3 div.sk-text-repr-fallback {\n",
       "  display: none;\n",
       "}\n",
       "\n",
       "div.sk-parallel-item,\n",
       "div.sk-serial,\n",
       "div.sk-item {\n",
       "  /* draw centered vertical line to link estimators */\n",
       "  background-image: linear-gradient(var(--sklearn-color-text-on-default-background), var(--sklearn-color-text-on-default-background));\n",
       "  background-size: 2px 100%;\n",
       "  background-repeat: no-repeat;\n",
       "  background-position: center center;\n",
       "}\n",
       "\n",
       "/* Parallel-specific style estimator block */\n",
       "\n",
       "#sk-container-id-3 div.sk-parallel-item::after {\n",
       "  content: \"\";\n",
       "  width: 100%;\n",
       "  border-bottom: 2px solid var(--sklearn-color-text-on-default-background);\n",
       "  flex-grow: 1;\n",
       "}\n",
       "\n",
       "#sk-container-id-3 div.sk-parallel {\n",
       "  display: flex;\n",
       "  align-items: stretch;\n",
       "  justify-content: center;\n",
       "  background-color: var(--sklearn-color-background);\n",
       "  position: relative;\n",
       "}\n",
       "\n",
       "#sk-container-id-3 div.sk-parallel-item {\n",
       "  display: flex;\n",
       "  flex-direction: column;\n",
       "}\n",
       "\n",
       "#sk-container-id-3 div.sk-parallel-item:first-child::after {\n",
       "  align-self: flex-end;\n",
       "  width: 50%;\n",
       "}\n",
       "\n",
       "#sk-container-id-3 div.sk-parallel-item:last-child::after {\n",
       "  align-self: flex-start;\n",
       "  width: 50%;\n",
       "}\n",
       "\n",
       "#sk-container-id-3 div.sk-parallel-item:only-child::after {\n",
       "  width: 0;\n",
       "}\n",
       "\n",
       "/* Serial-specific style estimator block */\n",
       "\n",
       "#sk-container-id-3 div.sk-serial {\n",
       "  display: flex;\n",
       "  flex-direction: column;\n",
       "  align-items: center;\n",
       "  background-color: var(--sklearn-color-background);\n",
       "  padding-right: 1em;\n",
       "  padding-left: 1em;\n",
       "}\n",
       "\n",
       "\n",
       "/* Toggleable style: style used for estimator/Pipeline/ColumnTransformer box that is\n",
       "clickable and can be expanded/collapsed.\n",
       "- Pipeline and ColumnTransformer use this feature and define the default style\n",
       "- Estimators will overwrite some part of the style using the `sk-estimator` class\n",
       "*/\n",
       "\n",
       "/* Pipeline and ColumnTransformer style (default) */\n",
       "\n",
       "#sk-container-id-3 div.sk-toggleable {\n",
       "  /* Default theme specific background. It is overwritten whether we have a\n",
       "  specific estimator or a Pipeline/ColumnTransformer */\n",
       "  background-color: var(--sklearn-color-background);\n",
       "}\n",
       "\n",
       "/* Toggleable label */\n",
       "#sk-container-id-3 label.sk-toggleable__label {\n",
       "  cursor: pointer;\n",
       "  display: flex;\n",
       "  width: 100%;\n",
       "  margin-bottom: 0;\n",
       "  padding: 0.5em;\n",
       "  box-sizing: border-box;\n",
       "  text-align: center;\n",
       "  align-items: start;\n",
       "  justify-content: space-between;\n",
       "  gap: 0.5em;\n",
       "}\n",
       "\n",
       "#sk-container-id-3 label.sk-toggleable__label .caption {\n",
       "  font-size: 0.6rem;\n",
       "  font-weight: lighter;\n",
       "  color: var(--sklearn-color-text-muted);\n",
       "}\n",
       "\n",
       "#sk-container-id-3 label.sk-toggleable__label-arrow:before {\n",
       "  /* Arrow on the left of the label */\n",
       "  content: \"▸\";\n",
       "  float: left;\n",
       "  margin-right: 0.25em;\n",
       "  color: var(--sklearn-color-icon);\n",
       "}\n",
       "\n",
       "#sk-container-id-3 label.sk-toggleable__label-arrow:hover:before {\n",
       "  color: var(--sklearn-color-text);\n",
       "}\n",
       "\n",
       "/* Toggleable content - dropdown */\n",
       "\n",
       "#sk-container-id-3 div.sk-toggleable__content {\n",
       "  max-height: 0;\n",
       "  max-width: 0;\n",
       "  overflow: hidden;\n",
       "  text-align: left;\n",
       "  /* unfitted */\n",
       "  background-color: var(--sklearn-color-unfitted-level-0);\n",
       "}\n",
       "\n",
       "#sk-container-id-3 div.sk-toggleable__content.fitted {\n",
       "  /* fitted */\n",
       "  background-color: var(--sklearn-color-fitted-level-0);\n",
       "}\n",
       "\n",
       "#sk-container-id-3 div.sk-toggleable__content pre {\n",
       "  margin: 0.2em;\n",
       "  border-radius: 0.25em;\n",
       "  color: var(--sklearn-color-text);\n",
       "  /* unfitted */\n",
       "  background-color: var(--sklearn-color-unfitted-level-0);\n",
       "}\n",
       "\n",
       "#sk-container-id-3 div.sk-toggleable__content.fitted pre {\n",
       "  /* unfitted */\n",
       "  background-color: var(--sklearn-color-fitted-level-0);\n",
       "}\n",
       "\n",
       "#sk-container-id-3 input.sk-toggleable__control:checked~div.sk-toggleable__content {\n",
       "  /* Expand drop-down */\n",
       "  max-height: 200px;\n",
       "  max-width: 100%;\n",
       "  overflow: auto;\n",
       "}\n",
       "\n",
       "#sk-container-id-3 input.sk-toggleable__control:checked~label.sk-toggleable__label-arrow:before {\n",
       "  content: \"▾\";\n",
       "}\n",
       "\n",
       "/* Pipeline/ColumnTransformer-specific style */\n",
       "\n",
       "#sk-container-id-3 div.sk-label input.sk-toggleable__control:checked~label.sk-toggleable__label {\n",
       "  color: var(--sklearn-color-text);\n",
       "  background-color: var(--sklearn-color-unfitted-level-2);\n",
       "}\n",
       "\n",
       "#sk-container-id-3 div.sk-label.fitted input.sk-toggleable__control:checked~label.sk-toggleable__label {\n",
       "  background-color: var(--sklearn-color-fitted-level-2);\n",
       "}\n",
       "\n",
       "/* Estimator-specific style */\n",
       "\n",
       "/* Colorize estimator box */\n",
       "#sk-container-id-3 div.sk-estimator input.sk-toggleable__control:checked~label.sk-toggleable__label {\n",
       "  /* unfitted */\n",
       "  background-color: var(--sklearn-color-unfitted-level-2);\n",
       "}\n",
       "\n",
       "#sk-container-id-3 div.sk-estimator.fitted input.sk-toggleable__control:checked~label.sk-toggleable__label {\n",
       "  /* fitted */\n",
       "  background-color: var(--sklearn-color-fitted-level-2);\n",
       "}\n",
       "\n",
       "#sk-container-id-3 div.sk-label label.sk-toggleable__label,\n",
       "#sk-container-id-3 div.sk-label label {\n",
       "  /* The background is the default theme color */\n",
       "  color: var(--sklearn-color-text-on-default-background);\n",
       "}\n",
       "\n",
       "/* On hover, darken the color of the background */\n",
       "#sk-container-id-3 div.sk-label:hover label.sk-toggleable__label {\n",
       "  color: var(--sklearn-color-text);\n",
       "  background-color: var(--sklearn-color-unfitted-level-2);\n",
       "}\n",
       "\n",
       "/* Label box, darken color on hover, fitted */\n",
       "#sk-container-id-3 div.sk-label.fitted:hover label.sk-toggleable__label.fitted {\n",
       "  color: var(--sklearn-color-text);\n",
       "  background-color: var(--sklearn-color-fitted-level-2);\n",
       "}\n",
       "\n",
       "/* Estimator label */\n",
       "\n",
       "#sk-container-id-3 div.sk-label label {\n",
       "  font-family: monospace;\n",
       "  font-weight: bold;\n",
       "  display: inline-block;\n",
       "  line-height: 1.2em;\n",
       "}\n",
       "\n",
       "#sk-container-id-3 div.sk-label-container {\n",
       "  text-align: center;\n",
       "}\n",
       "\n",
       "/* Estimator-specific */\n",
       "#sk-container-id-3 div.sk-estimator {\n",
       "  font-family: monospace;\n",
       "  border: 1px dotted var(--sklearn-color-border-box);\n",
       "  border-radius: 0.25em;\n",
       "  box-sizing: border-box;\n",
       "  margin-bottom: 0.5em;\n",
       "  /* unfitted */\n",
       "  background-color: var(--sklearn-color-unfitted-level-0);\n",
       "}\n",
       "\n",
       "#sk-container-id-3 div.sk-estimator.fitted {\n",
       "  /* fitted */\n",
       "  background-color: var(--sklearn-color-fitted-level-0);\n",
       "}\n",
       "\n",
       "/* on hover */\n",
       "#sk-container-id-3 div.sk-estimator:hover {\n",
       "  /* unfitted */\n",
       "  background-color: var(--sklearn-color-unfitted-level-2);\n",
       "}\n",
       "\n",
       "#sk-container-id-3 div.sk-estimator.fitted:hover {\n",
       "  /* fitted */\n",
       "  background-color: var(--sklearn-color-fitted-level-2);\n",
       "}\n",
       "\n",
       "/* Specification for estimator info (e.g. \"i\" and \"?\") */\n",
       "\n",
       "/* Common style for \"i\" and \"?\" */\n",
       "\n",
       ".sk-estimator-doc-link,\n",
       "a:link.sk-estimator-doc-link,\n",
       "a:visited.sk-estimator-doc-link {\n",
       "  float: right;\n",
       "  font-size: smaller;\n",
       "  line-height: 1em;\n",
       "  font-family: monospace;\n",
       "  background-color: var(--sklearn-color-background);\n",
       "  border-radius: 1em;\n",
       "  height: 1em;\n",
       "  width: 1em;\n",
       "  text-decoration: none !important;\n",
       "  margin-left: 0.5em;\n",
       "  text-align: center;\n",
       "  /* unfitted */\n",
       "  border: var(--sklearn-color-unfitted-level-1) 1pt solid;\n",
       "  color: var(--sklearn-color-unfitted-level-1);\n",
       "}\n",
       "\n",
       ".sk-estimator-doc-link.fitted,\n",
       "a:link.sk-estimator-doc-link.fitted,\n",
       "a:visited.sk-estimator-doc-link.fitted {\n",
       "  /* fitted */\n",
       "  border: var(--sklearn-color-fitted-level-1) 1pt solid;\n",
       "  color: var(--sklearn-color-fitted-level-1);\n",
       "}\n",
       "\n",
       "/* On hover */\n",
       "div.sk-estimator:hover .sk-estimator-doc-link:hover,\n",
       ".sk-estimator-doc-link:hover,\n",
       "div.sk-label-container:hover .sk-estimator-doc-link:hover,\n",
       ".sk-estimator-doc-link:hover {\n",
       "  /* unfitted */\n",
       "  background-color: var(--sklearn-color-unfitted-level-3);\n",
       "  color: var(--sklearn-color-background);\n",
       "  text-decoration: none;\n",
       "}\n",
       "\n",
       "div.sk-estimator.fitted:hover .sk-estimator-doc-link.fitted:hover,\n",
       ".sk-estimator-doc-link.fitted:hover,\n",
       "div.sk-label-container:hover .sk-estimator-doc-link.fitted:hover,\n",
       ".sk-estimator-doc-link.fitted:hover {\n",
       "  /* fitted */\n",
       "  background-color: var(--sklearn-color-fitted-level-3);\n",
       "  color: var(--sklearn-color-background);\n",
       "  text-decoration: none;\n",
       "}\n",
       "\n",
       "/* Span, style for the box shown on hovering the info icon */\n",
       ".sk-estimator-doc-link span {\n",
       "  display: none;\n",
       "  z-index: 9999;\n",
       "  position: relative;\n",
       "  font-weight: normal;\n",
       "  right: .2ex;\n",
       "  padding: .5ex;\n",
       "  margin: .5ex;\n",
       "  width: min-content;\n",
       "  min-width: 20ex;\n",
       "  max-width: 50ex;\n",
       "  color: var(--sklearn-color-text);\n",
       "  box-shadow: 2pt 2pt 4pt #999;\n",
       "  /* unfitted */\n",
       "  background: var(--sklearn-color-unfitted-level-0);\n",
       "  border: .5pt solid var(--sklearn-color-unfitted-level-3);\n",
       "}\n",
       "\n",
       ".sk-estimator-doc-link.fitted span {\n",
       "  /* fitted */\n",
       "  background: var(--sklearn-color-fitted-level-0);\n",
       "  border: var(--sklearn-color-fitted-level-3);\n",
       "}\n",
       "\n",
       ".sk-estimator-doc-link:hover span {\n",
       "  display: block;\n",
       "}\n",
       "\n",
       "/* \"?\"-specific style due to the `<a>` HTML tag */\n",
       "\n",
       "#sk-container-id-3 a.estimator_doc_link {\n",
       "  float: right;\n",
       "  font-size: 1rem;\n",
       "  line-height: 1em;\n",
       "  font-family: monospace;\n",
       "  background-color: var(--sklearn-color-background);\n",
       "  border-radius: 1rem;\n",
       "  height: 1rem;\n",
       "  width: 1rem;\n",
       "  text-decoration: none;\n",
       "  /* unfitted */\n",
       "  color: var(--sklearn-color-unfitted-level-1);\n",
       "  border: var(--sklearn-color-unfitted-level-1) 1pt solid;\n",
       "}\n",
       "\n",
       "#sk-container-id-3 a.estimator_doc_link.fitted {\n",
       "  /* fitted */\n",
       "  border: var(--sklearn-color-fitted-level-1) 1pt solid;\n",
       "  color: var(--sklearn-color-fitted-level-1);\n",
       "}\n",
       "\n",
       "/* On hover */\n",
       "#sk-container-id-3 a.estimator_doc_link:hover {\n",
       "  /* unfitted */\n",
       "  background-color: var(--sklearn-color-unfitted-level-3);\n",
       "  color: var(--sklearn-color-background);\n",
       "  text-decoration: none;\n",
       "}\n",
       "\n",
       "#sk-container-id-3 a.estimator_doc_link.fitted:hover {\n",
       "  /* fitted */\n",
       "  background-color: var(--sklearn-color-fitted-level-3);\n",
       "}\n",
       "</style><div id=\"sk-container-id-3\" class=\"sk-top-container\"><div class=\"sk-text-repr-fallback\"><pre>LocalOutlierFactor(contamination=0.0015, n_jobs=-1, n_neighbors=35,\n",
       "                   novelty=True)</pre><b>In a Jupyter environment, please rerun this cell to show the HTML representation or trust the notebook. <br />On GitHub, the HTML representation is unable to render, please try loading this page with nbviewer.org.</b></div><div class=\"sk-container\" hidden><div class=\"sk-item\"><div class=\"sk-estimator fitted sk-toggleable\"><input class=\"sk-toggleable__control sk-hidden--visually\" id=\"sk-estimator-id-3\" type=\"checkbox\" checked><label for=\"sk-estimator-id-3\" class=\"sk-toggleable__label fitted sk-toggleable__label-arrow\"><div><div>LocalOutlierFactor</div></div><div><a class=\"sk-estimator-doc-link fitted\" rel=\"noreferrer\" target=\"_blank\" href=\"https://scikit-learn.org/1.6/modules/generated/sklearn.neighbors.LocalOutlierFactor.html\">?<span>Documentation for LocalOutlierFactor</span></a><span class=\"sk-estimator-doc-link fitted\">i<span>Fitted</span></span></div></label><div class=\"sk-toggleable__content fitted\"><pre>LocalOutlierFactor(contamination=0.0015, n_jobs=-1, n_neighbors=35,\n",
       "                   novelty=True)</pre></div> </div></div></div></div>"
      ],
      "text/plain": [
       "LocalOutlierFactor(contamination=0.0015, n_jobs=-1, n_neighbors=35,\n",
       "                   novelty=True)"
      ]
     },
     "execution_count": 17,
     "metadata": {},
     "output_type": "execute_result"
    }
   ],
   "source": [
    "from sklearn.neighbors import LocalOutlierFactor\n",
    "\n",
    "lof = LocalOutlierFactor(\n",
    "    n_neighbors=35,   # hyperparameter to tune\n",
    "    novelty=True,     # allow scoring unseen data\n",
    "    contamination=0.0015,  # expected fraction of anomalies (used for predict threshold only)\n",
    "    n_jobs=-1\n",
    ")\n",
    "\n",
    "lof.fit(X_train)"
   ]
  },
  {
   "cell_type": "code",
   "execution_count": 18,
   "id": "64123c06",
   "metadata": {},
   "outputs": [
    {
     "name": "stderr",
     "output_type": "stream",
     "text": [
      "c:\\Users\\lukeh\\AppData\\Local\\Programs\\Python\\Python312\\Lib\\site-packages\\sklearn\\utils\\validation.py:2739: UserWarning: X does not have valid feature names, but LocalOutlierFactor was fitted with feature names\n",
      "  warnings.warn(\n",
      "c:\\Users\\lukeh\\AppData\\Local\\Programs\\Python\\Python312\\Lib\\site-packages\\sklearn\\utils\\validation.py:2739: UserWarning: X does not have valid feature names, but LocalOutlierFactor was fitted with feature names\n",
      "  warnings.warn(\n"
     ]
    }
   ],
   "source": [
    "scores = -lof.decision_function(X_test)\n",
    "pred_labels = (lof.predict(X_test) == -1).astype(int)"
   ]
  },
  {
   "cell_type": "code",
   "execution_count": 19,
   "id": "cc015a48",
   "metadata": {},
   "outputs": [
    {
     "name": "stdout",
     "output_type": "stream",
     "text": [
      "ROC: 0.4999\n",
      "PR AUC: 0.0036\n"
     ]
    },
    {
     "data": {
      "image/png": "[encoded data removed]",
      "text/plain": [
       "<Figure size 640x480 with 2 Axes>"
      ]
     },
     "metadata": {},
     "output_type": "display_data"
    }
   ],
   "source": [
    "from sklearn.metrics import roc_auc_score, average_precision_score, confusion_matrix\n",
    "import seaborn as sns\n",
    "import matplotlib.pyplot as plt\n",
    "\n",
    "roc = roc_auc_score(y_test, scores)\n",
    "pr_auc = average_precision_score(y_test, scores)\n",
    "\n",
    "print(f\"ROC: {roc.round(4)}\")\n",
    "print(f\"PR AUC: {pr_auc.round(4)}\")\n",
    "\n",
    "# Confusion Matrix\n",
    "sns.heatmap(confusion_matrix(y_test, pred_labels), annot=True, fmt='d', cmap='Blues')\n",
    "plt.title(\"Confusion Matrix\")\n",
    "plt.xlabel(\"Predicted\")\n",
    "plt.ylabel(\"Actual\")\n",
    "plt.show()"
   ]
  },
  {
   "cell_type": "markdown",
   "id": "9fe56663",
   "metadata": {},
   "source": [
    "This model clearly performs terribly. Let's try tuning it."
   ]
  },
  {
   "cell_type": "markdown",
   "id": "a3d7cd2d",
   "metadata": {},
   "source": [
    "## Hyperparameter Tuning"
   ]
  },
  {
   "cell_type": "code",
   "execution_count": 20,
   "id": "a6faa240",
   "metadata": {},
   "outputs": [
    {
     "name": "stdout",
     "output_type": "stream",
     "text": [
      "3\n",
      "0.001738031284563122\n"
     ]
    }
   ],
   "source": [
    "# Find a good random_state so that the sample mean is close to the actual mean\n",
    "\n",
    "mean = 0\n",
    "i = 0\n",
    "\n",
    "while abs(mean-0.00172) > 0.00002:\n",
    "    i+=1\n",
    "    train_sample = train_df.sample(frac=0.5, random_state=i)\n",
    "    X_sample = train_sample.drop(columns=['Class'])\n",
    "    y_sample = train_sample['Class']\n",
    "    mean = y_sample.mean()\n",
    "\n",
    "print(i)\n",
    "print(mean)"
   ]
  },
  {
   "cell_type": "code",
   "execution_count": 21,
   "id": "f43106f3",
   "metadata": {},
   "outputs": [],
   "source": [
    "import numpy as np\n",
    "\n",
    "def precision_recall_at_k(y_true, scores, k=0.01):\n",
    "    \"\"\"\n",
    "    Compute Precision@k and Recall@k for anomaly scores.\n",
    "    y_true: array-like of shape (n,) with 0/1 labels\n",
    "    scores: array-like of shape (n,) with higher = more anomalous\n",
    "    k: fraction of samples to flag (e.g. 0.01 = top 1%)\n",
    "    \"\"\"\n",
    "    n = len(scores)\n",
    "    top_n = max(1, int(np.ceil(k * n)))  # at least one sample\n",
    "\n",
    "    # Get indices of top-k scores\n",
    "    idx = np.argsort(-scores)[:top_n]\n",
    "\n",
    "    # Precision = frauds / flagged\n",
    "    precision = y_true.iloc[idx].mean()\n",
    "\n",
    "    # Recall = frauds caught / total frauds\n",
    "    recall = y_true.iloc[idx].sum() / y_true.sum()\n",
    "\n",
    "    return precision, recall"
   ]
  },
  {
   "cell_type": "code",
   "execution_count": 22,
   "id": "b9acac2b",
   "metadata": {},
   "outputs": [],
   "source": [
    "from sklearn.model_selection import ParameterGrid\n",
    "\n",
    "def tune_LOF(param_grid, PRIMARY, SECONDARY, X_train=X_train, X_val=X_val, y_val=y_val):\n",
    "\n",
    "    runs = []\n",
    "    best_tuple = (-np.inf, -np.inf)\n",
    "    best_params, best_model, best_scores = None, None, None\n",
    "\n",
    "    for params in ParameterGrid(param_grid):\n",
    "        lof = LocalOutlierFactor(\n",
    "            novelty=True,\n",
    "            n_jobs=-1,\n",
    "            metric=\"minkowski\",\n",
    "            **params\n",
    "        )\n",
    "        lof.fit(X_train)\n",
    "        scores = -lof.decision_function(X_val)\n",
    "\n",
    "        roc = roc_auc_score(y_val, scores)\n",
    "        pr_auc = average_precision_score(y_val, scores)\n",
    "        p_at_1,  r_at_1  = precision_recall_at_k(y_val, scores, k=0.01)\n",
    "        p_at_05, r_at_05 = precision_recall_at_k(y_val, scores, k=0.005)\n",
    "\n",
    "        runs.append({\n",
    "            **params,\n",
    "            \"ROC\": roc,\n",
    "            \"pr_auc\": pr_auc,\n",
    "            \"p_at_1\": p_at_1, \"r_at_1\": r_at_1,\n",
    "            \"p_at_05\": p_at_05, \"r_at_05\": r_at_05\n",
    "        })\n",
    "\n",
    "        primary_val   = r_at_1 if PRIMARY == \"r_at_1\" else pr_auc\n",
    "        secondary_val = pr_auc if SECONDARY == \"pr_auc\" else r_at_1\n",
    "\n",
    "        if (primary_val, secondary_val) > best_tuple:\n",
    "            best_tuple  = (primary_val, secondary_val)\n",
    "            best_params = params\n",
    "            best_model  = lof\n",
    "            best_scores = scores\n",
    "\n",
    "    results_df = pd.DataFrame(runs).sort_values(\n",
    "        by=[PRIMARY, SECONDARY], ascending=[False, False]\n",
    "    ).reset_index(drop=True)\n",
    "\n",
    "    print(\"Top configs:\")\n",
    "    display(results_df.head(10))\n",
    "    print(\"\\nSelected params:\", best_params)\n",
    "    print(f\"Selected {PRIMARY}={best_tuple[0]:.4f}, {SECONDARY}={best_tuple[1]:.4f}\")\n",
    "\n",
    "    return(best_tuple, best_params, best_model, best_scores)"
   ]
  },
  {
   "cell_type": "code",
   "execution_count": 23,
   "id": "3dacae3d",
   "metadata": {},
   "outputs": [
    {
     "name": "stderr",
     "output_type": "stream",
     "text": [
      "c:\\Users\\lukeh\\AppData\\Local\\Programs\\Python\\Python312\\Lib\\site-packages\\sklearn\\utils\\validation.py:2739: UserWarning: X does not have valid feature names, but LocalOutlierFactor was fitted with feature names\n",
      "  warnings.warn(\n",
      "c:\\Users\\lukeh\\AppData\\Local\\Programs\\Python\\Python312\\Lib\\site-packages\\sklearn\\utils\\validation.py:2739: UserWarning: X does not have valid feature names, but LocalOutlierFactor was fitted with feature names\n",
      "  warnings.warn(\n",
      "c:\\Users\\lukeh\\AppData\\Local\\Programs\\Python\\Python312\\Lib\\site-packages\\sklearn\\utils\\validation.py:2739: UserWarning: X does not have valid feature names, but LocalOutlierFactor was fitted with feature names\n",
      "  warnings.warn(\n"
     ]
    },
    {
     "name": "stdout",
     "output_type": "stream",
     "text": [
      "Top configs:\n"
     ]
    },
    {
     "data": {
      "text/html": [
       "<div>\n",
       "<style scoped>\n",
       "    .dataframe tbody tr th:only-of-type {\n",
       "        vertical-align: middle;\n",
       "    }\n",
       "\n",
       "    .dataframe tbody tr th {\n",
       "        vertical-align: top;\n",
       "    }\n",
       "\n",
       "    .dataframe thead th {\n",
       "        text-align: right;\n",
       "    }\n",
       "</style>\n",
       "<table border=\"1\" class=\"dataframe\">\n",
       "  <thead>\n",
       "    <tr style=\"text-align: right;\">\n",
       "      <th></th>\n",
       "      <th>n_neighbors</th>\n",
       "      <th>ROC</th>\n",
       "      <th>pr_auc</th>\n",
       "      <th>p_at_1</th>\n",
       "      <th>r_at_1</th>\n",
       "      <th>p_at_05</th>\n",
       "      <th>r_at_05</th>\n",
       "    </tr>\n",
       "  </thead>\n",
       "  <tbody>\n",
       "    <tr>\n",
       "      <th>0</th>\n",
       "      <td>300</td>\n",
       "      <td>0.962465</td>\n",
       "      <td>0.372191</td>\n",
       "      <td>0.136842</td>\n",
       "      <td>0.787879</td>\n",
       "      <td>0.266667</td>\n",
       "      <td>0.767677</td>\n",
       "    </tr>\n",
       "    <tr>\n",
       "      <th>1</th>\n",
       "      <td>200</td>\n",
       "      <td>0.962364</td>\n",
       "      <td>0.276550</td>\n",
       "      <td>0.136842</td>\n",
       "      <td>0.787879</td>\n",
       "      <td>0.259649</td>\n",
       "      <td>0.747475</td>\n",
       "    </tr>\n",
       "    <tr>\n",
       "      <th>2</th>\n",
       "      <td>100</td>\n",
       "      <td>0.836257</td>\n",
       "      <td>0.019313</td>\n",
       "      <td>0.031579</td>\n",
       "      <td>0.181818</td>\n",
       "      <td>0.045614</td>\n",
       "      <td>0.131313</td>\n",
       "    </tr>\n",
       "  </tbody>\n",
       "</table>\n",
       "</div>"
      ],
      "text/plain": [
       "   n_neighbors       ROC    pr_auc    p_at_1    r_at_1   p_at_05   r_at_05\n",
       "0          300  0.962465  0.372191  0.136842  0.787879  0.266667  0.767677\n",
       "1          200  0.962364  0.276550  0.136842  0.787879  0.259649  0.747475\n",
       "2          100  0.836257  0.019313  0.031579  0.181818  0.045614  0.131313"
      ]
     },
     "metadata": {},
     "output_type": "display_data"
    },
    {
     "name": "stdout",
     "output_type": "stream",
     "text": [
      "\n",
      "Selected params: {'n_neighbors': 300}\n",
      "Selected r_at_1=0.7879, pr_auc=0.3722\n"
     ]
    },
    {
     "data": {
      "text/plain": [
       "((0.7878787878787878, 0.37219068874735806),\n",
       " {'n_neighbors': 300},\n",
       " LocalOutlierFactor(n_jobs=-1, n_neighbors=300, novelty=True),\n",
       " array([-0.21643433, -0.10156226, -0.39048619, ..., -0.51152622,\n",
       "        -0.43457247, -0.36997519]))"
      ]
     },
     "execution_count": 23,
     "metadata": {},
     "output_type": "execute_result"
    }
   ],
   "source": [
    "PRIMARY   = \"r_at_1\"\n",
    "SECONDARY = \"pr_auc\"\n",
    "\n",
    "param_grid = {\n",
    "    \"n_neighbors\": [100, 200, 300], # Narrowed down through multiple iterations\n",
    "}\n",
    "\n",
    "# First tune on a sample of the train dataset\n",
    "tune_LOF(param_grid, PRIMARY, SECONDARY, X_sample)"
   ]
  },
  {
   "cell_type": "code",
   "execution_count": 30,
   "id": "50c7b453",
   "metadata": {},
   "outputs": [
    {
     "name": "stderr",
     "output_type": "stream",
     "text": [
      "c:\\Users\\lukeh\\AppData\\Local\\Programs\\Python\\Python312\\Lib\\site-packages\\sklearn\\utils\\validation.py:2739: UserWarning: X does not have valid feature names, but LocalOutlierFactor was fitted with feature names\n",
      "  warnings.warn(\n",
      "c:\\Users\\lukeh\\AppData\\Local\\Programs\\Python\\Python312\\Lib\\site-packages\\sklearn\\utils\\validation.py:2739: UserWarning: X does not have valid feature names, but LocalOutlierFactor was fitted with feature names\n",
      "  warnings.warn(\n",
      "c:\\Users\\lukeh\\AppData\\Local\\Programs\\Python\\Python312\\Lib\\site-packages\\sklearn\\utils\\validation.py:2739: UserWarning: X does not have valid feature names, but LocalOutlierFactor was fitted with feature names\n",
      "  warnings.warn(\n"
     ]
    },
    {
     "name": "stdout",
     "output_type": "stream",
     "text": [
      "Top configs:\n"
     ]
    },
    {
     "data": {
      "text/html": [
       "<div>\n",
       "<style scoped>\n",
       "    .dataframe tbody tr th:only-of-type {\n",
       "        vertical-align: middle;\n",
       "    }\n",
       "\n",
       "    .dataframe tbody tr th {\n",
       "        vertical-align: top;\n",
       "    }\n",
       "\n",
       "    .dataframe thead th {\n",
       "        text-align: right;\n",
       "    }\n",
       "</style>\n",
       "<table border=\"1\" class=\"dataframe\">\n",
       "  <thead>\n",
       "    <tr style=\"text-align: right;\">\n",
       "      <th></th>\n",
       "      <th>n_neighbors</th>\n",
       "      <th>ROC</th>\n",
       "      <th>pr_auc</th>\n",
       "      <th>p_at_1</th>\n",
       "      <th>r_at_1</th>\n",
       "      <th>p_at_05</th>\n",
       "      <th>r_at_05</th>\n",
       "    </tr>\n",
       "  </thead>\n",
       "  <tbody>\n",
       "    <tr>\n",
       "      <th>0</th>\n",
       "      <td>400</td>\n",
       "      <td>0.962444</td>\n",
       "      <td>0.362085</td>\n",
       "      <td>0.136842</td>\n",
       "      <td>0.787879</td>\n",
       "      <td>0.266667</td>\n",
       "      <td>0.767677</td>\n",
       "    </tr>\n",
       "    <tr>\n",
       "      <th>1</th>\n",
       "      <td>300</td>\n",
       "      <td>0.961830</td>\n",
       "      <td>0.276599</td>\n",
       "      <td>0.136842</td>\n",
       "      <td>0.787879</td>\n",
       "      <td>0.263158</td>\n",
       "      <td>0.757576</td>\n",
       "    </tr>\n",
       "    <tr>\n",
       "      <th>2</th>\n",
       "      <td>200</td>\n",
       "      <td>0.927883</td>\n",
       "      <td>0.059250</td>\n",
       "      <td>0.066667</td>\n",
       "      <td>0.383838</td>\n",
       "      <td>0.094737</td>\n",
       "      <td>0.272727</td>\n",
       "    </tr>\n",
       "  </tbody>\n",
       "</table>\n",
       "</div>"
      ],
      "text/plain": [
       "   n_neighbors       ROC    pr_auc    p_at_1    r_at_1   p_at_05   r_at_05\n",
       "0          400  0.962444  0.362085  0.136842  0.787879  0.266667  0.767677\n",
       "1          300  0.961830  0.276599  0.136842  0.787879  0.263158  0.757576\n",
       "2          200  0.927883  0.059250  0.066667  0.383838  0.094737  0.272727"
      ]
     },
     "metadata": {},
     "output_type": "display_data"
    },
    {
     "name": "stdout",
     "output_type": "stream",
     "text": [
      "\n",
      "Selected params: {'n_neighbors': 400}\n",
      "Selected r_at_1=0.7879, pr_auc=0.3621\n"
     ]
    },
    {
     "data": {
      "text/plain": [
       "((0.7878787878787878, 0.3620854481177362),\n",
       " {'n_neighbors': 400},\n",
       " LocalOutlierFactor(n_jobs=-1, n_neighbors=400, novelty=True),\n",
       " array([-0.20896509, -0.11626683, -0.38604448, ..., -0.51058878,\n",
       "        -0.42619101, -0.36862622]))"
      ]
     },
     "execution_count": 30,
     "metadata": {},
     "output_type": "execute_result"
    }
   ],
   "source": [
    "PRIMARY   = \"r_at_1\"\n",
    "SECONDARY = \"pr_auc\"\n",
    "\n",
    "param_grid = {\n",
    "    \"n_neighbors\": [200, 300, 400], # Narrowed down through multiple iterations\n",
    "}\n",
    "\n",
    "# Try tuning on the whole train dataset\n",
    "tune_LOF(param_grid, PRIMARY, SECONDARY)"
   ]
  },
  {
   "cell_type": "markdown",
   "id": "d075c0e6",
   "metadata": {},
   "source": [
    "It looks like p_at_1 and r_at_1 have stopped improving at n=300, but let's see if we can further improve the PR AUC by using even more neighbours."
   ]
  },
  {
   "cell_type": "code",
   "execution_count": 31,
   "id": "3cc2ed6d",
   "metadata": {},
   "outputs": [
    {
     "name": "stderr",
     "output_type": "stream",
     "text": [
      "c:\\Users\\lukeh\\AppData\\Local\\Programs\\Python\\Python312\\Lib\\site-packages\\sklearn\\utils\\validation.py:2739: UserWarning: X does not have valid feature names, but LocalOutlierFactor was fitted with feature names\n",
      "  warnings.warn(\n",
      "c:\\Users\\lukeh\\AppData\\Local\\Programs\\Python\\Python312\\Lib\\site-packages\\sklearn\\utils\\validation.py:2739: UserWarning: X does not have valid feature names, but LocalOutlierFactor was fitted with feature names\n",
      "  warnings.warn(\n",
      "c:\\Users\\lukeh\\AppData\\Local\\Programs\\Python\\Python312\\Lib\\site-packages\\sklearn\\utils\\validation.py:2739: UserWarning: X does not have valid feature names, but LocalOutlierFactor was fitted with feature names\n",
      "  warnings.warn(\n"
     ]
    },
    {
     "name": "stdout",
     "output_type": "stream",
     "text": [
      "Top configs:\n"
     ]
    },
    {
     "data": {
      "text/html": [
       "<div>\n",
       "<style scoped>\n",
       "    .dataframe tbody tr th:only-of-type {\n",
       "        vertical-align: middle;\n",
       "    }\n",
       "\n",
       "    .dataframe tbody tr th {\n",
       "        vertical-align: top;\n",
       "    }\n",
       "\n",
       "    .dataframe thead th {\n",
       "        text-align: right;\n",
       "    }\n",
       "</style>\n",
       "<table border=\"1\" class=\"dataframe\">\n",
       "  <thead>\n",
       "    <tr style=\"text-align: right;\">\n",
       "      <th></th>\n",
       "      <th>n_neighbors</th>\n",
       "      <th>ROC</th>\n",
       "      <th>pr_auc</th>\n",
       "      <th>p_at_1</th>\n",
       "      <th>r_at_1</th>\n",
       "      <th>p_at_05</th>\n",
       "      <th>r_at_05</th>\n",
       "    </tr>\n",
       "  </thead>\n",
       "  <tbody>\n",
       "    <tr>\n",
       "      <th>0</th>\n",
       "      <td>400</td>\n",
       "      <td>0.962049</td>\n",
       "      <td>0.389634</td>\n",
       "      <td>0.136842</td>\n",
       "      <td>0.787879</td>\n",
       "      <td>0.266667</td>\n",
       "      <td>0.767677</td>\n",
       "    </tr>\n",
       "    <tr>\n",
       "      <th>1</th>\n",
       "      <td>500</td>\n",
       "      <td>0.961383</td>\n",
       "      <td>0.384383</td>\n",
       "      <td>0.136842</td>\n",
       "      <td>0.787879</td>\n",
       "      <td>0.259649</td>\n",
       "      <td>0.747475</td>\n",
       "    </tr>\n",
       "    <tr>\n",
       "      <th>2</th>\n",
       "      <td>600</td>\n",
       "      <td>0.961376</td>\n",
       "      <td>0.384253</td>\n",
       "      <td>0.136842</td>\n",
       "      <td>0.787879</td>\n",
       "      <td>0.259649</td>\n",
       "      <td>0.747475</td>\n",
       "    </tr>\n",
       "  </tbody>\n",
       "</table>\n",
       "</div>"
      ],
      "text/plain": [
       "   n_neighbors       ROC    pr_auc    p_at_1    r_at_1   p_at_05   r_at_05\n",
       "0          400  0.962049  0.389634  0.136842  0.787879  0.266667  0.767677\n",
       "1          500  0.961383  0.384383  0.136842  0.787879  0.259649  0.747475\n",
       "2          600  0.961376  0.384253  0.136842  0.787879  0.259649  0.747475"
      ]
     },
     "metadata": {},
     "output_type": "display_data"
    },
    {
     "name": "stdout",
     "output_type": "stream",
     "text": [
      "\n",
      "Selected params: {'n_neighbors': 400}\n",
      "Selected r_at_1=0.7879, pr_auc=0.3896\n"
     ]
    },
    {
     "data": {
      "text/plain": [
       "((0.7878787878787878, 0.3896338331339095),\n",
       " {'n_neighbors': 400},\n",
       " LocalOutlierFactor(n_jobs=-1, n_neighbors=400, novelty=True),\n",
       " array([-0.23959298, -0.10652425, -0.38573855, ..., -0.50527097,\n",
       "        -0.43396927, -0.38746282]))"
      ]
     },
     "execution_count": 31,
     "metadata": {},
     "output_type": "execute_result"
    }
   ],
   "source": [
    "PRIMARY   = \"r_at_1\"\n",
    "SECONDARY = \"pr_auc\"\n",
    "\n",
    "param_grid = {\n",
    "    \"n_neighbors\": [400, 500, 600], # Narrowed down through multiple iterations\n",
    "}\n",
    "\n",
    "# First tune on a sample of the train dataset\n",
    "tune_LOF(param_grid, PRIMARY, SECONDARY, X_sample)"
   ]
  },
  {
   "cell_type": "code",
   "execution_count": 32,
   "id": "9423b7e6",
   "metadata": {},
   "outputs": [
    {
     "name": "stderr",
     "output_type": "stream",
     "text": [
      "c:\\Users\\lukeh\\AppData\\Local\\Programs\\Python\\Python312\\Lib\\site-packages\\sklearn\\utils\\validation.py:2739: UserWarning: X does not have valid feature names, but LocalOutlierFactor was fitted with feature names\n",
      "  warnings.warn(\n",
      "c:\\Users\\lukeh\\AppData\\Local\\Programs\\Python\\Python312\\Lib\\site-packages\\sklearn\\utils\\validation.py:2739: UserWarning: X does not have valid feature names, but LocalOutlierFactor was fitted with feature names\n",
      "  warnings.warn(\n",
      "c:\\Users\\lukeh\\AppData\\Local\\Programs\\Python\\Python312\\Lib\\site-packages\\sklearn\\utils\\validation.py:2739: UserWarning: X does not have valid feature names, but LocalOutlierFactor was fitted with feature names\n",
      "  warnings.warn(\n"
     ]
    },
    {
     "name": "stdout",
     "output_type": "stream",
     "text": [
      "Top configs:\n"
     ]
    },
    {
     "data": {
      "text/html": [
       "<div>\n",
       "<style scoped>\n",
       "    .dataframe tbody tr th:only-of-type {\n",
       "        vertical-align: middle;\n",
       "    }\n",
       "\n",
       "    .dataframe tbody tr th {\n",
       "        vertical-align: top;\n",
       "    }\n",
       "\n",
       "    .dataframe thead th {\n",
       "        text-align: right;\n",
       "    }\n",
       "</style>\n",
       "<table border=\"1\" class=\"dataframe\">\n",
       "  <thead>\n",
       "    <tr style=\"text-align: right;\">\n",
       "      <th></th>\n",
       "      <th>n_neighbors</th>\n",
       "      <th>ROC</th>\n",
       "      <th>pr_auc</th>\n",
       "      <th>p_at_1</th>\n",
       "      <th>r_at_1</th>\n",
       "      <th>p_at_05</th>\n",
       "      <th>r_at_05</th>\n",
       "    </tr>\n",
       "  </thead>\n",
       "  <tbody>\n",
       "    <tr>\n",
       "      <th>0</th>\n",
       "      <td>600</td>\n",
       "      <td>0.961999</td>\n",
       "      <td>0.386524</td>\n",
       "      <td>0.136842</td>\n",
       "      <td>0.787879</td>\n",
       "      <td>0.266667</td>\n",
       "      <td>0.767677</td>\n",
       "    </tr>\n",
       "    <tr>\n",
       "      <th>1</th>\n",
       "      <td>500</td>\n",
       "      <td>0.962269</td>\n",
       "      <td>0.384378</td>\n",
       "      <td>0.136842</td>\n",
       "      <td>0.787879</td>\n",
       "      <td>0.266667</td>\n",
       "      <td>0.767677</td>\n",
       "    </tr>\n",
       "    <tr>\n",
       "      <th>2</th>\n",
       "      <td>400</td>\n",
       "      <td>0.962444</td>\n",
       "      <td>0.362085</td>\n",
       "      <td>0.136842</td>\n",
       "      <td>0.787879</td>\n",
       "      <td>0.266667</td>\n",
       "      <td>0.767677</td>\n",
       "    </tr>\n",
       "  </tbody>\n",
       "</table>\n",
       "</div>"
      ],
      "text/plain": [
       "   n_neighbors       ROC    pr_auc    p_at_1    r_at_1   p_at_05   r_at_05\n",
       "0          600  0.961999  0.386524  0.136842  0.787879  0.266667  0.767677\n",
       "1          500  0.962269  0.384378  0.136842  0.787879  0.266667  0.767677\n",
       "2          400  0.962444  0.362085  0.136842  0.787879  0.266667  0.767677"
      ]
     },
     "metadata": {},
     "output_type": "display_data"
    },
    {
     "name": "stdout",
     "output_type": "stream",
     "text": [
      "\n",
      "Selected params: {'n_neighbors': 600}\n",
      "Selected r_at_1=0.7879, pr_auc=0.3865\n"
     ]
    },
    {
     "data": {
      "text/plain": [
       "((0.7878787878787878, 0.3865241540193627),\n",
       " {'n_neighbors': 600},\n",
       " LocalOutlierFactor(n_jobs=-1, n_neighbors=600, novelty=True),\n",
       " array([-0.23658324, -0.10685334, -0.38316084, ..., -0.50799994,\n",
       "        -0.42701753, -0.38585544]))"
      ]
     },
     "execution_count": 32,
     "metadata": {},
     "output_type": "execute_result"
    }
   ],
   "source": [
    "PRIMARY   = \"r_at_1\"\n",
    "SECONDARY = \"pr_auc\"\n",
    "\n",
    "param_grid = {\n",
    "    \"n_neighbors\": [400, 500, 600], # Narrowed down through multiple iterations\n",
    "}\n",
    "\n",
    "# Try tuning on the whole train dataset\n",
    "tune_LOF(param_grid, PRIMARY, SECONDARY)"
   ]
  },
  {
   "cell_type": "markdown",
   "id": "dec5bf76",
   "metadata": {},
   "source": [
    "It appears as though the improvements in p_at_05, r_at_05 and PR AUC have now become minute for the additional neighbors."
   ]
  },
  {
   "cell_type": "markdown",
   "id": "08dba29b",
   "metadata": {},
   "source": [
    "## Evaluation"
   ]
  },
  {
   "cell_type": "code",
   "execution_count": null,
   "id": "9c7ee6e0",
   "metadata": {},
   "outputs": [
    {
     "name": "stderr",
     "output_type": "stream",
     "text": [
      "c:\\Users\\lukeh\\AppData\\Local\\Programs\\Python\\Python312\\Lib\\site-packages\\sklearn\\utils\\validation.py:2739: UserWarning: X does not have valid feature names, but LocalOutlierFactor was fitted with feature names\n",
      "  warnings.warn(\n"
     ]
    },
    {
     "name": "stdout",
     "output_type": "stream",
     "text": [
      "{'ROC': 0.9495164976513959, 'pr_auc': 0.506404795078435, 'p_at_1': 0.14385964912280702, 'r_at_1': 0.8367346938775511, 'p_at_05': 0.2771929824561403, 'r_at_05': 0.8061224489795918}\n"
     ]
    }
   ],
   "source": [
    "lof = LocalOutlierFactor(\n",
    "    n_neighbors=500,\n",
    "    novelty=True,\n",
    "    n_jobs=-1\n",
    ")\n",
    "\n",
    "lof.fit(X_train)\n",
    "\n",
    "scores = -lof.decision_function(X_test)\n",
    "\n",
    "roc = roc_auc_score(y_test, scores)\n",
    "pr_auc = average_precision_score(y_test, scores)\n",
    "p_at_1, r_at_1 = precision_recall_at_k(y_test, scores, k=0.01)\n",
    "p_at_05, r_at_05 = precision_recall_at_k(y_test, scores, k=0.005)\n",
    "\n",
    "print({\"ROC\": roc, \"pr_auc\": pr_auc, \"p_at_1\": p_at_1, \"r_at_1\": r_at_1, \"p_at_05\": p_at_05, \"r_at_05\": r_at_05})"
   ]
  },
  {
   "cell_type": "markdown",
   "id": "aa54e4b8",
   "metadata": {},
   "source": [
    "Now let's try out these parameters on the whole dataset."
   ]
  },
  {
   "cell_type": "markdown",
   "id": "5ba7d99f",
   "metadata": {},
   "source": [
    "## Evaluation on the Whole Dataset"
   ]
  },
  {
   "cell_type": "code",
   "execution_count": 34,
   "id": "e015cc10",
   "metadata": {},
   "outputs": [
    {
     "name": "stderr",
     "output_type": "stream",
     "text": [
      "c:\\Users\\lukeh\\AppData\\Local\\Programs\\Python\\Python312\\Lib\\site-packages\\sklearn\\utils\\validation.py:2739: UserWarning: X does not have valid feature names, but LocalOutlierFactor was fitted with feature names\n",
      "  warnings.warn(\n"
     ]
    },
    {
     "name": "stdout",
     "output_type": "stream",
     "text": [
      "{'ROC': 0.9604611869149484, 'pr_auc': 0.4542843905162742, 'p_at_1': 0.14215514215514216, 'r_at_1': 0.823170731707317, 'p_at_05': 0.27649122807017545, 'r_at_05': 0.8008130081300813}\n"
     ]
    }
   ],
   "source": [
    "scores = -lof.decision_function(df_unlabelled)\n",
    "\n",
    "roc = roc_auc_score(labels, scores)\n",
    "pr_auc = average_precision_score(labels, scores)\n",
    "p_at_1,  r_at_1  = precision_recall_at_k(labels, scores, k=0.01)\n",
    "p_at_05, r_at_05 = precision_recall_at_k(labels, scores, k=0.005)\n",
    "\n",
    "print({\n",
    "    \"ROC\": roc,\n",
    "    \"pr_auc\": pr_auc,\n",
    "    \"p_at_1\": p_at_1, \"r_at_1\": r_at_1,\n",
    "    \"p_at_05\": p_at_05, \"r_at_05\": r_at_05\n",
    "})"
   ]
  },
  {
   "cell_type": "markdown",
   "id": "3d188e3b",
   "metadata": {},
   "source": [
    "Note that these scores can be marginally improved upon by setting a higher n_neighbors, but the improvements are marginal compared to the computational cost."
   ]
  },
  {
   "cell_type": "markdown",
   "id": "91b88f86",
   "metadata": {},
   "source": [
    "On the whole dataset, our tuned Local Outlier Factor (LOF) model achieved ROC AUC = 0.96 and PR AUC = 0.45, substantially higher than the Isolation Forest baseline.\n",
    "\n",
    "At a 1% review budget, the model reached 14% precision and 82% recall, representing an ~83× improvement over random guessing.\n",
    "In practice, this means fraud investigators could detect ~404 fraud cases (over 80% of all frauds in the dataset) while only reviewing 1% of transactions.\n",
    "\n",
    "At a 0.5% review budget, the model achieved 28% precision and 80% recall, a ~162× improvement over random guessing.\n",
    "This translates to catching ~394 fraud cases (around 80% of the total) while reviewing just 0.5% of transactions (~1,425 cases out of 285,000)."
   ]
  },
  {
   "cell_type": "markdown",
   "id": "6a76637b",
   "metadata": {},
   "source": [
    "## Reducing Model Complexity"
   ]
  },
  {
   "cell_type": "markdown",
   "id": "66f0ed5d",
   "metadata": {},
   "source": [
    "In practice, it is feasible that increased PR AUC is not deemed to be worth the extra computational cost that comes with it, as only the top x% of transactions flagged as 'most suspicious' will be manually reviewed.\n",
    "\n",
    "In this case, can we simplify the model so that it runs more efficiently, whilst maintaining good p_at_1 and r_at_1 scores?\n",
    "\n",
    "Note that this assumes that the top 1% of transactions will be reviewed. Of course, if the percentage differs from 1% that would affect the model complexity necessary to retain performance."
   ]
  },
  {
   "cell_type": "code",
   "execution_count": 35,
   "id": "5289f8bb",
   "metadata": {},
   "outputs": [
    {
     "name": "stderr",
     "output_type": "stream",
     "text": [
      "c:\\Users\\lukeh\\AppData\\Local\\Programs\\Python\\Python312\\Lib\\site-packages\\sklearn\\utils\\validation.py:2739: UserWarning: X does not have valid feature names, but LocalOutlierFactor was fitted with feature names\n",
      "  warnings.warn(\n",
      "c:\\Users\\lukeh\\AppData\\Local\\Programs\\Python\\Python312\\Lib\\site-packages\\sklearn\\utils\\validation.py:2739: UserWarning: X does not have valid feature names, but LocalOutlierFactor was fitted with feature names\n",
      "  warnings.warn(\n",
      "c:\\Users\\lukeh\\AppData\\Local\\Programs\\Python\\Python312\\Lib\\site-packages\\sklearn\\utils\\validation.py:2739: UserWarning: X does not have valid feature names, but LocalOutlierFactor was fitted with feature names\n",
      "  warnings.warn(\n"
     ]
    },
    {
     "name": "stdout",
     "output_type": "stream",
     "text": [
      "Top configs:\n"
     ]
    },
    {
     "data": {
      "text/html": [
       "<div>\n",
       "<style scoped>\n",
       "    .dataframe tbody tr th:only-of-type {\n",
       "        vertical-align: middle;\n",
       "    }\n",
       "\n",
       "    .dataframe tbody tr th {\n",
       "        vertical-align: top;\n",
       "    }\n",
       "\n",
       "    .dataframe thead th {\n",
       "        text-align: right;\n",
       "    }\n",
       "</style>\n",
       "<table border=\"1\" class=\"dataframe\">\n",
       "  <thead>\n",
       "    <tr style=\"text-align: right;\">\n",
       "      <th></th>\n",
       "      <th>n_neighbors</th>\n",
       "      <th>ROC</th>\n",
       "      <th>pr_auc</th>\n",
       "      <th>p_at_1</th>\n",
       "      <th>r_at_1</th>\n",
       "      <th>p_at_05</th>\n",
       "      <th>r_at_05</th>\n",
       "    </tr>\n",
       "  </thead>\n",
       "  <tbody>\n",
       "    <tr>\n",
       "      <th>0</th>\n",
       "      <td>350</td>\n",
       "      <td>0.962471</td>\n",
       "      <td>0.334987</td>\n",
       "      <td>0.136842</td>\n",
       "      <td>0.787879</td>\n",
       "      <td>0.263158</td>\n",
       "      <td>0.757576</td>\n",
       "    </tr>\n",
       "    <tr>\n",
       "      <th>1</th>\n",
       "      <td>300</td>\n",
       "      <td>0.961830</td>\n",
       "      <td>0.276599</td>\n",
       "      <td>0.136842</td>\n",
       "      <td>0.787879</td>\n",
       "      <td>0.263158</td>\n",
       "      <td>0.757576</td>\n",
       "    </tr>\n",
       "    <tr>\n",
       "      <th>2</th>\n",
       "      <td>250</td>\n",
       "      <td>0.958896</td>\n",
       "      <td>0.145296</td>\n",
       "      <td>0.115789</td>\n",
       "      <td>0.666667</td>\n",
       "      <td>0.182456</td>\n",
       "      <td>0.525253</td>\n",
       "    </tr>\n",
       "  </tbody>\n",
       "</table>\n",
       "</div>"
      ],
      "text/plain": [
       "   n_neighbors       ROC    pr_auc    p_at_1    r_at_1   p_at_05   r_at_05\n",
       "0          350  0.962471  0.334987  0.136842  0.787879  0.263158  0.757576\n",
       "1          300  0.961830  0.276599  0.136842  0.787879  0.263158  0.757576\n",
       "2          250  0.958896  0.145296  0.115789  0.666667  0.182456  0.525253"
      ]
     },
     "metadata": {},
     "output_type": "display_data"
    },
    {
     "name": "stdout",
     "output_type": "stream",
     "text": [
      "\n",
      "Selected params: {'n_neighbors': 350}\n",
      "Selected r_at_1=0.7879, pr_auc=0.3350\n"
     ]
    },
    {
     "data": {
      "text/plain": [
       "((0.7878787878787878, 0.33498674083955843),\n",
       " {'n_neighbors': 350},\n",
       " LocalOutlierFactor(n_jobs=-1, n_neighbors=350, novelty=True),\n",
       " array([-0.19985498, -0.12122769, -0.38322507, ..., -0.50549505,\n",
       "        -0.42460746, -0.35949611]))"
      ]
     },
     "execution_count": 35,
     "metadata": {},
     "output_type": "execute_result"
    }
   ],
   "source": [
    "PRIMARY   = \"r_at_1\"\n",
    "SECONDARY = \"pr_auc\"\n",
    "\n",
    "param_grid = {\n",
    "    \"n_neighbors\": [250, 300, 350], # Narrowed down through multiple iterations\n",
    "}\n",
    "\n",
    "tune_LOF(param_grid, PRIMARY, SECONDARY, X_train)"
   ]
  },
  {
   "cell_type": "code",
   "execution_count": 36,
   "id": "69bbca9c",
   "metadata": {},
   "outputs": [
    {
     "name": "stderr",
     "output_type": "stream",
     "text": [
      "c:\\Users\\lukeh\\AppData\\Local\\Programs\\Python\\Python312\\Lib\\site-packages\\sklearn\\utils\\validation.py:2739: UserWarning: X does not have valid feature names, but LocalOutlierFactor was fitted with feature names\n",
      "  warnings.warn(\n"
     ]
    },
    {
     "name": "stdout",
     "output_type": "stream",
     "text": [
      "{'ROC': 0.9522805218035442, 'pr_auc': 0.34763110193208335, 'p_at_1': 0.14385964912280702, 'r_at_1': 0.8367346938775511, 'p_at_05': 0.26666666666666666, 'r_at_05': 0.7755102040816326}\n"
     ]
    }
   ],
   "source": [
    "lof = LocalOutlierFactor(\n",
    "    n_neighbors=300,\n",
    "    novelty=True,\n",
    "    n_jobs=-1\n",
    ")\n",
    "\n",
    "lof.fit(X_train)\n",
    "\n",
    "scores = -lof.decision_function(X_test)\n",
    "\n",
    "roc = roc_auc_score(y_test, scores)\n",
    "pr_auc = average_precision_score(y_test, scores)\n",
    "p_at_1, r_at_1 = precision_recall_at_k(y_test, scores, k=0.01)\n",
    "p_at_05, r_at_05 = precision_recall_at_k(y_test, scores, k=0.005)\n",
    "\n",
    "print({\"ROC\": roc, \"pr_auc\": pr_auc, \"p_at_1\": p_at_1, \"r_at_1\": r_at_1, \"p_at_05\": p_at_05, \"r_at_05\": r_at_05})"
   ]
  },
  {
   "cell_type": "markdown",
   "id": "d256b93b",
   "metadata": {},
   "source": [
    "We can see that reducing n_neighbors to 400, we can retain strong p_at_1 and r_at_1 values whilst reducing model complexity."
   ]
  }
 ],
 "metadata": {
  "kernelspec": {
   "display_name": "Python 3",
   "language": "python",
   "name": "python3"
  },
  "language_info": {
   "codemirror_mode": {
    "name": "ipython",
    "version": 3
   },
   "file_extension": ".py",
   "mimetype": "text/x-python",
   "name": "python",
   "nbconvert_exporter": "python",
   "pygments_lexer": "ipython3",
   "version": "3.12.1"
  }
 },
 "nbformat": 4,
 "nbformat_minor": 5
}
