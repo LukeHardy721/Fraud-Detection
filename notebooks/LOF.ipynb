{
 "cells": [
  {
   "cell_type": "markdown",
   "id": "828a2b0a",
   "metadata": {},
   "source": [
    "# Local Outlier Factor"
   ]
  },
  {
   "cell_type": "markdown",
   "id": "43f024c5",
   "metadata": {},
   "source": [
    "## Import Data"
   ]
  },
  {
   "cell_type": "code",
   "execution_count": 1,
   "id": "0fc89551",
   "metadata": {},
   "outputs": [
    {
     "name": "stdout",
     "output_type": "stream",
     "text": [
      "(227845, 31)\n",
      "(56962, 31)\n",
      "(284807, 31)\n"
     ]
    }
   ],
   "source": [
    "import pandas as pd\n",
    "\n",
    "train_df = pd.read_csv(\"../data/processed_train_df.csv\")\n",
    "print(train_df.shape)\n",
    "\n",
    "test_df = pd.read_csv(\"../data/processed_test_df.csv\")\n",
    "print(test_df.shape)\n",
    "\n",
    "df = pd.concat([train_df, test_df])\n",
    "print(df.shape)"
   ]
  },
  {
   "cell_type": "code",
   "execution_count": 2,
   "id": "f948faf1",
   "metadata": {},
   "outputs": [],
   "source": [
    "# Exclude labels\n",
    "\n",
    "y_train = train_df['Class']\n",
    "X_train = train_df.copy().drop('Class', axis=1)\n",
    "\n",
    "X_train.columns\n",
    "\n",
    "y_test = test_df['Class']\n",
    "X_test = test_df.copy().drop('Class', axis=1)\n",
    "\n",
    "labels = df['Class']\n",
    "df_unlabelled = df.copy().drop('Class', axis=1)"
   ]
  },
  {
   "cell_type": "markdown",
   "id": "3d04ca86",
   "metadata": {},
   "source": [
    "## Model Building"
   ]
  },
  {
   "cell_type": "code",
   "execution_count": null,
   "id": "e076fdd9",
   "metadata": {},
   "outputs": [],
   "source": []
  }
 ],
 "metadata": {
  "kernelspec": {
   "display_name": "Python 3",
   "language": "python",
   "name": "python3"
  },
  "language_info": {
   "codemirror_mode": {
    "name": "ipython",
    "version": 3
   },
   "file_extension": ".py",
   "mimetype": "text/x-python",
   "name": "python",
   "nbconvert_exporter": "python",
   "pygments_lexer": "ipython3",
   "version": "3.12.1"
  }
 },
 "nbformat": 4,
 "nbformat_minor": 5
}
